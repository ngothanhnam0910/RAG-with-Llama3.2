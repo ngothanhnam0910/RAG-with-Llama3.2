{
 "cells": [
  {
   "cell_type": "code",
   "execution_count": 3,
   "metadata": {},
   "outputs": [
    {
     "name": "stdout",
     "output_type": "stream",
     "text": [
      "Collecting faker\n",
      "  Downloading Faker-30.1.0-py3-none-any.whl.metadata (15 kB)\n",
      "Requirement already satisfied: python-dateutil>=2.4 in /home/gem/miniconda3/envs/llama3_rag/lib/python3.10/site-packages (from faker) (2.9.0)\n",
      "Requirement already satisfied: typing-extensions in /home/gem/miniconda3/envs/llama3_rag/lib/python3.10/site-packages (from faker) (4.12.2)\n",
      "Requirement already satisfied: six>=1.5 in /home/gem/miniconda3/envs/llama3_rag/lib/python3.10/site-packages (from python-dateutil>=2.4->faker) (1.16.0)\n",
      "Downloading Faker-30.1.0-py3-none-any.whl (1.8 MB)\n",
      "\u001b[2K   \u001b[90m━━━━━━━━━━━━━━━━━━━━━━━━━━━━━━━━━━━━━━━━\u001b[0m \u001b[32m1.8/1.8 MB\u001b[0m \u001b[31m26.1 MB/s\u001b[0m eta \u001b[36m0:00:00\u001b[0m\n",
      "\u001b[?25hInstalling collected packages: faker\n",
      "Successfully installed faker-30.1.0\n"
     ]
    }
   ],
   "source": [
    "!pip install faker"
   ]
  },
  {
   "cell_type": "code",
   "execution_count": 4,
   "metadata": {},
   "outputs": [],
   "source": [
    "from qdrant_client import QdrantClient\n",
    "from qdrant_client.http import models\n",
    "import numpy as np\n",
    "from faker import Faker\n"
   ]
  },
  {
   "cell_type": "code",
   "execution_count": 5,
   "metadata": {},
   "outputs": [
    {
     "data": {
      "text/plain": [
       "<qdrant_client.qdrant_client.QdrantClient at 0x7f333f4cc790>"
      ]
     },
     "execution_count": 5,
     "metadata": {},
     "output_type": "execute_result"
    }
   ],
   "source": [
    "client  = QdrantClient(host=\"localhost\", port=6333)\n",
    "client"
   ]
  },
  {
   "cell_type": "code",
   "execution_count": 6,
   "metadata": {},
   "outputs": [
    {
     "data": {
      "text/plain": [
       "True"
      ]
     },
     "execution_count": 6,
     "metadata": {},
     "output_type": "execute_result"
    }
   ],
   "source": [
    "my_collection = \"first_collection\"\n",
    "client.create_collection(\n",
    "    collection_name=my_collection,\n",
    "    vectors_config=models.VectorParams(size=100, distance=models.Distance.COSINE)\n",
    ")"
   ]
  },
  {
   "cell_type": "code",
   "execution_count": 7,
   "metadata": {},
   "outputs": [
    {
     "name": "stdout",
     "output_type": "stream",
     "text": [
      "(1000, 100)\n"
     ]
    }
   ],
   "source": [
    "data = np.random.uniform(low=-1.0, high=1.0, size=(1000,100))\n",
    "index = list(range(1000))\n",
    "print(data.shape)"
   ]
  },
  {
   "cell_type": "code",
   "execution_count": 8,
   "metadata": {},
   "outputs": [
    {
     "data": {
      "text/plain": [
       "array([[-0.8151875 ,  0.26946907,  0.60930361,  0.29692612,  0.93258552],\n",
       "       [-0.52344853,  0.4887113 ,  0.95136738, -0.78396036,  0.02563133]])"
      ]
     },
     "execution_count": 8,
     "metadata": {},
     "output_type": "execute_result"
    }
   ],
   "source": [
    "data[:2, :5]"
   ]
  },
  {
   "cell_type": "code",
   "execution_count": 9,
   "metadata": {},
   "outputs": [
    {
     "data": {
      "text/plain": [
       "UpdateResult(operation_id=0, status=<UpdateStatus.COMPLETED: 'completed'>)"
      ]
     },
     "execution_count": 9,
     "metadata": {},
     "output_type": "execute_result"
    }
   ],
   "source": [
    "client.upsert(\n",
    "    collection_name=my_collection,\n",
    "    points=models.Batch(\n",
    "        ids=index,\n",
    "        vectors=data.tolist()\n",
    "    )\n",
    ")"
   ]
  },
  {
   "cell_type": "code",
   "execution_count": 10,
   "metadata": {},
   "outputs": [
    {
     "data": {
      "text/plain": [
       "[Record(id=10, payload={}, vector=None, shard_key=None, order_value=None),\n",
       " Record(id=14, payload={}, vector=None, shard_key=None, order_value=None),\n",
       " Record(id=500, payload={}, vector=None, shard_key=None, order_value=None)]"
      ]
     },
     "execution_count": 10,
     "metadata": {},
     "output_type": "execute_result"
    }
   ],
   "source": [
    "client.retrieve(\n",
    "    collection_name=my_collection,\n",
    "    ids=[10,14,500]\n",
    ")"
   ]
  },
  {
   "cell_type": "code",
   "execution_count": 11,
   "metadata": {},
   "outputs": [
    {
     "data": {
      "text/plain": [
       "('James Moore', '41840 Roberts Point Apt. 429\\nLake Ricky, VA 38863')"
      ]
     },
     "execution_count": 11,
     "metadata": {},
     "output_type": "execute_result"
    }
   ],
   "source": [
    "fake_something = Faker()\n",
    "fake_something.name(), fake_something.address()"
   ]
  },
  {
   "cell_type": "code",
   "execution_count": 12,
   "metadata": {},
   "outputs": [
    {
     "data": {
      "text/plain": [
       "[{'artist': 'Joshua Reynolds',\n",
       "  'song': 'continue participant ground',\n",
       "  'url_song': 'http://burton.com/',\n",
       "  'year': '2013',\n",
       "  'country': \"Cote d'Ivoire\"},\n",
       " {'artist': 'Sherry Brooks',\n",
       "  'song': 'concern receive someone',\n",
       "  'url_song': 'http://www.tapia.com/',\n",
       "  'year': '1980',\n",
       "  'country': 'French Polynesia'}]"
      ]
     },
     "execution_count": 12,
     "metadata": {},
     "output_type": "execute_result"
    }
   ],
   "source": [
    "payload = []\n",
    "for i in range(1000):\n",
    "    payload.append(\n",
    "        {\n",
    "            \"artist\": fake_something.name(),\n",
    "            \"song\": \" \".join(fake_something.words()),\n",
    "            \"url_song\": fake_something.url(),\n",
    "            \"year\": fake_something.year(),\n",
    "            \"country\": fake_something.country(),\n",
    "        }\n",
    "    )\n",
    "\n",
    "payload[:2]"
   ]
  },
  {
   "cell_type": "code",
   "execution_count": 13,
   "metadata": {},
   "outputs": [
    {
     "data": {
      "text/plain": [
       "UpdateResult(operation_id=1, status=<UpdateStatus.COMPLETED: 'completed'>)"
      ]
     },
     "execution_count": 13,
     "metadata": {},
     "output_type": "execute_result"
    }
   ],
   "source": [
    "client.upsert(\n",
    "    collection_name=my_collection,\n",
    "    points=models.Batch(\n",
    "        ids=index,\n",
    "        vectors=data.tolist(),\n",
    "        payloads=payload\n",
    "    )\n",
    ")"
   ]
  },
  {
   "cell_type": "markdown",
   "metadata": {},
   "source": [
    "## Semantic Search"
   ]
  },
  {
   "cell_type": "code",
   "execution_count": 14,
   "metadata": {},
   "outputs": [],
   "source": [
    "random_vec = np.random.uniform(low=-1.0, high=1.0, size=(100)).tolist()"
   ]
  },
  {
   "cell_type": "code",
   "execution_count": 15,
   "metadata": {},
   "outputs": [
    {
     "data": {
      "text/plain": [
       "[ScoredPoint(id=925, version=1, score=0.29106066, payload={'artist': 'Matthew Hall', 'song': 'always yeah modern', 'url_song': 'http://krueger-lewis.biz/', 'year': '1984', 'country': 'Anguilla'}, vector=None, shard_key=None, order_value=None),\n",
       " ScoredPoint(id=556, version=1, score=0.2597546, payload={'artist': 'Nicholas Hall', 'song': 'think painting tough', 'url_song': 'https://www.wagner.info/', 'year': '2012', 'country': 'Montenegro'}, vector=None, shard_key=None, order_value=None),\n",
       " ScoredPoint(id=822, version=1, score=0.25470805, payload={'artist': 'Darlene Dalton', 'song': 'machine mean difficult', 'url_song': 'http://www.lamb.com/', 'year': '1975', 'country': 'Greece'}, vector=None, shard_key=None, order_value=None),\n",
       " ScoredPoint(id=700, version=1, score=0.25292808, payload={'artist': 'Christina Bruce', 'song': 'off himself sit', 'url_song': 'http://www.stephenson.com/', 'year': '2014', 'country': 'Ireland'}, vector=None, shard_key=None, order_value=None),\n",
       " ScoredPoint(id=965, version=1, score=0.24797657, payload={'artist': 'Amanda Hayes', 'song': 'moment director relationship', 'url_song': 'https://morris.net/', 'year': '1979', 'country': 'Portugal'}, vector=None, shard_key=None, order_value=None)]"
      ]
     },
     "execution_count": 15,
     "metadata": {},
     "output_type": "execute_result"
    }
   ],
   "source": [
    "client.search(\n",
    "    collection_name=my_collection,\n",
    "    query_vector=random_vec,\n",
    "    limit=5\n",
    ")"
   ]
  },
  {
   "cell_type": "code",
   "execution_count": 22,
   "metadata": {},
   "outputs": [],
   "source": [
    "aussie_songs = models.Filter(\n",
    "    must= [\n",
    "        models.FieldCondition(\n",
    "            key=\"country\", match=models.MatchValue(value=\"Montenegro\")\n",
    "        )\n",
    "    ]\n",
    ")"
   ]
  },
  {
   "cell_type": "code",
   "execution_count": 25,
   "metadata": {},
   "outputs": [
    {
     "data": {
      "text/plain": [
       "[ScoredPoint(id=556, version=1, score=0.2597546, payload={'artist': 'Nicholas Hall', 'song': 'think painting tough', 'url_song': 'https://www.wagner.info/', 'year': '2012', 'country': 'Montenegro'}, vector=None, shard_key=None, order_value=None),\n",
       " ScoredPoint(id=44, version=1, score=0.21341681, payload={'artist': 'Douglas Cole', 'song': 'student example task', 'url_song': 'http://foster.biz/', 'year': '1998', 'country': 'Montenegro'}, vector=None, shard_key=None, order_value=None),\n",
       " ScoredPoint(id=387, version=1, score=0.053265657, payload={'artist': 'Cathy Williams', 'song': 'follow professor whom', 'url_song': 'http://kim.com/', 'year': '2009', 'country': 'Montenegro'}, vector=None, shard_key=None, order_value=None),\n",
       " ScoredPoint(id=819, version=1, score=0.045626536, payload={'artist': 'Kenneth Clarke MD', 'song': 'glass view ten', 'url_song': 'http://nelson-hernandez.com/', 'year': '2023', 'country': 'Montenegro'}, vector=None, shard_key=None, order_value=None),\n",
       " ScoredPoint(id=539, version=1, score=0.024381682, payload={'artist': 'Francisco Mathis', 'song': 'this should someone', 'url_song': 'http://shepherd-bowen.net/', 'year': '1982', 'country': 'Montenegro'}, vector=None, shard_key=None, order_value=None)]"
      ]
     },
     "execution_count": 25,
     "metadata": {},
     "output_type": "execute_result"
    }
   ],
   "source": [
    "client.search(\n",
    "    collection_name=my_collection,\n",
    "    query_vector=random_vec,\n",
    "    query_filter=aussie_songs,\n",
    "    limit=5\n",
    ")"
   ]
  },
  {
   "cell_type": "code",
   "execution_count": null,
   "metadata": {},
   "outputs": [],
   "source": []
  }
 ],
 "metadata": {
  "kernelspec": {
   "display_name": "llama3_rag",
   "language": "python",
   "name": "python3"
  },
  "language_info": {
   "codemirror_mode": {
    "name": "ipython",
    "version": 3
   },
   "file_extension": ".py",
   "mimetype": "text/x-python",
   "name": "python",
   "nbconvert_exporter": "python",
   "pygments_lexer": "ipython3",
   "version": "3.10.14"
  }
 },
 "nbformat": 4,
 "nbformat_minor": 2
}
